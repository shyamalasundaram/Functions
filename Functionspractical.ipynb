{
  "nbformat": 4,
  "nbformat_minor": 0,
  "metadata": {
    "colab": {
      "provenance": []
    },
    "kernelspec": {
      "name": "python3",
      "display_name": "Python 3"
    },
    "language_info": {
      "name": "python"
    }
  },
  "cells": [
    {
      "cell_type": "markdown",
      "source": [
        "#**Question 1. Write a Python function that takes a list of numbers as input and returns the sum of all even numbers in the list.**"
      ],
      "metadata": {
        "id": "-EjPC6-lvAWF"
      }
    },
    {
      "cell_type": "code",
      "execution_count": 1,
      "metadata": {
        "id": "LtZclQExuHvQ"
      },
      "outputs": [],
      "source": [
        "def sum_even_numbers(numbers_list):\n",
        "  \"\"\"\n",
        "  Calculates the sum of all even numbers in a list.\n",
        "\n",
        "  Args:\n",
        "    numbers_list: A list of numbers (integers or floats).\n",
        "\n",
        "  Returns:\n",
        "    The sum of all even numbers in the list.\n",
        "  \"\"\"\n",
        "  even_sum = 0\n",
        "  for number in numbers_list:\n",
        "    if number % 2 == 0:\n",
        "      even_sum += number\n",
        "  return even_sum"
      ]
    },
    {
      "cell_type": "markdown",
      "source": [
        "#**Question 2. Create a Python function that accepts a string and returns the reverse of that string.**\n"
      ],
      "metadata": {
        "id": "UBqFtAzoxX3I"
      }
    },
    {
      "cell_type": "code",
      "source": [
        "def reverse_string(input_string):\n",
        "  \"\"\"\n",
        "  Reverses a given string.\n",
        "\n",
        "  Args:\n",
        "    input_string: The string to be reversed.\n",
        "\n",
        "  Returns:\n",
        "    The reversed string.\n",
        "  \"\"\"\n",
        "  return input_string[::-1]\n",
        "\n",
        "# Example:\n",
        "original_str = \"hello world\"\n",
        "reversed_str = reverse_string(original_str)\n",
        "print(f\"Original string: {original_str}\")\n",
        "print(f\"Reversed string: {reversed_str}\")\n",
        "\n",
        "original_str_2 = \"Python \"\n",
        "reversed_str_2 = reverse_string(original_str_2)\n",
        "print(f\"Original string: {original_str_2}\")\n",
        "print(f\"Reversed string: {reversed_str_2}\")"
      ],
      "metadata": {
        "colab": {
          "base_uri": "https://localhost:8080/"
        },
        "id": "F9T_SPJYxf40",
        "outputId": "92008370-1fc1-4f23-c490-04f3770b3a64"
      },
      "execution_count": 3,
      "outputs": [
        {
          "output_type": "stream",
          "name": "stdout",
          "text": [
            "Original string: hello world\n",
            "Reversed string: dlrow olleh\n",
            "Original string: Python \n",
            "Reversed string:  nohtyP\n"
          ]
        }
      ]
    },
    {
      "cell_type": "markdown",
      "source": [
        "#**Question 3. Implement a Python function that takes a list of integers and returns a new list containing the squares of each number.**\n"
      ],
      "metadata": {
        "id": "bHOcnDugyADE"
      }
    },
    {
      "cell_type": "code",
      "source": [
        "def square_list_elements(numbers):\n",
        "\n",
        " '''\n",
        " Args:\n",
        "    numbers: A list of integers.\n",
        "\n",
        "  Returns:\n",
        "    A new list containing the squares of each number in the input list.\n",
        "  '''\n",
        "\n",
        "  # Method 1: Using a for loop\n",
        "  # squared_numbers = []\n",
        "  # for num in numbers:\n",
        "  #   squared_numbers.append(num ** 2)\n",
        "  # return squared_numbers\n",
        "\n",
        "  # Method 2: Using the map() function and a lambda function\n",
        "  # squared_numbers = list(map(lambda num: num ** 2, numbers))\n",
        "  # return squared_numbers\n",
        "\n",
        "# Example:\n",
        "def square_list_elements(numbers):\n",
        "    return [num ** 2 for num in numbers]\n",
        "my_list = [1, 2, 3, 4, 5]\n",
        "squared_list = square_list_elements(numbers=my_list)\n",
        "print(f\"Original list: {my_list}\")\n",
        "print(f\"Squared list: {squared_list}\")\n",
        "\n",
        "def square_list_elements(numbers):\n",
        "    return [num ** 2 for num in numbers]\n",
        "my_list_2 = [10, -3, 0, 7]\n",
        "squared_list_2 = square_list_elements(numbers=my_list_2)\n",
        "print(f\"Original list: {my_list_2}\")\n",
        "print(f\"Squared list: {squared_list_2}\")\n"
      ],
      "metadata": {
        "colab": {
          "base_uri": "https://localhost:8080/"
        },
        "id": "srl4qLfsyUuW",
        "outputId": "52b106ab-5621-40a9-ccb2-d1d1612f67c7"
      },
      "execution_count": 5,
      "outputs": [
        {
          "output_type": "stream",
          "name": "stdout",
          "text": [
            "Original list: [1, 2, 3, 4, 5]\n",
            "Squared list: [1, 4, 9, 16, 25]\n",
            "Original list: [10, -3, 0, 7]\n",
            "Squared list: [100, 9, 0, 49]\n"
          ]
        }
      ]
    },
    {
      "cell_type": "markdown",
      "source": [
        "#**Question 4. Write a Python function that checks if a given number is prime or not from 1 to 200.**\n"
      ],
      "metadata": {
        "id": "8Lh8Dbg63Ryf"
      }
    },
    {
      "cell_type": "code",
      "source": [
        "\n",
        "def is_prime(n):\n",
        "    if n <= 1:\n",
        "        return False\n",
        "    for i in range(2, int(n ** 0.5) + 1):\n",
        "        if n % i == 0:\n",
        "            return False\n",
        "    return True\n",
        "\n",
        "def find_primes_in_range(start, end):\n",
        "    primes = []\n",
        "    for num in range(start, end + 1):\n",
        "        if is_prime(num):\n",
        "            primes.append(num)\n",
        "    return primes\n",
        "\n",
        "# Example:\n",
        "start_range = 1\n",
        "end_range = 200\n",
        "prime_numbers = find_primes_in_range(start_range, end_range)\n",
        "print(f\"Prime numbers from {start_range} to {end_range}:\")\n",
        "print(prime_numbers)\n",
        "\n",
        "\n"
      ],
      "metadata": {
        "colab": {
          "base_uri": "https://localhost:8080/"
        },
        "id": "nMRIdfv_3PIG",
        "outputId": "192171f5-74d7-488a-986e-f5b4e24b897e"
      },
      "execution_count": 1,
      "outputs": [
        {
          "output_type": "stream",
          "name": "stdout",
          "text": [
            "Prime numbers from 1 to 200:\n",
            "[2, 3, 5, 7, 11, 13, 17, 19, 23, 29, 31, 37, 41, 43, 47, 53, 59, 61, 67, 71, 73, 79, 83, 89, 97, 101, 103, 107, 109, 113, 127, 131, 137, 139, 149, 151, 157, 163, 167, 173, 179, 181, 191, 193, 197, 199]\n"
          ]
        }
      ]
    },
    {
      "cell_type": "markdown",
      "source": [
        "#**Question 5. Create an iterator class in Python that generates the Fibonacci sequence up to a specified number of terms.**\n"
      ],
      "metadata": {
        "id": "LwcVTCv4rc1y"
      }
    },
    {
      "cell_type": "code",
      "source": [
        "class FibonacciIterator:\n",
        "\n",
        "    def __init__(self, n):\n",
        "        self.n = n\n",
        "        self.current = 0\n",
        "        self.a, self.b = 0, 1\n",
        "\n",
        "    def __iter__(self):\n",
        "        return self\n",
        "\n",
        "    def __next__(self):\n",
        "        if self.current < self.n:\n",
        "            fib_num = self.a\n",
        "            self.a, self.b = self.b, self.a + self.b\n",
        "            self.current += 1\n",
        "            return fib_num\n",
        "        else:\n",
        "            raise StopIteration\n",
        "\n",
        "# Example:\n",
        "n = 10  # Number of terms\n",
        "fib_iterator = FibonacciIterator(n)\n",
        "print(f\"Fibonacci sequence up to {n} terms:\")\n",
        "for num in fib_iterator:\n",
        "    print(num)\n",
        "\n"
      ],
      "metadata": {
        "colab": {
          "base_uri": "https://localhost:8080/"
        },
        "id": "cI85JQ38ugFw",
        "outputId": "a43b0493-705e-4403-b539-a5c543095f92"
      },
      "execution_count": 3,
      "outputs": [
        {
          "output_type": "stream",
          "name": "stdout",
          "text": [
            "Fibonacci sequence up to 10 terms:\n",
            "0\n",
            "1\n",
            "1\n",
            "2\n",
            "3\n",
            "5\n",
            "8\n",
            "13\n",
            "21\n",
            "34\n"
          ]
        }
      ]
    },
    {
      "cell_type": "markdown",
      "source": [
        "#**Question 6. Write a generator function in Python that yields the powers of 2 up to a given exponent.**\n"
      ],
      "metadata": {
        "id": "G8mwDbk9vfzy"
      }
    },
    {
      "cell_type": "code",
      "source": [
        "def powers_of_two(n):\n",
        "    for i in range(n + 1):\n",
        "        yield 2 ** i\n",
        "\n",
        "# Example:\n",
        "n = 5  # Exponent\n",
        "print(f\"Powers of 2 up to 2^{n}:\")\n",
        "for power in powers_of_two(n):\n",
        "    print(power)\n",
        "\n",
        "\n"
      ],
      "metadata": {
        "colab": {
          "base_uri": "https://localhost:8080/"
        },
        "id": "pEAxA7rcv9r1",
        "outputId": "44768687-8076-41a8-d065-796a3cb2a7d5"
      },
      "execution_count": 4,
      "outputs": [
        {
          "output_type": "stream",
          "name": "stdout",
          "text": [
            "Powers of 2 up to 2^5:\n",
            "1\n",
            "2\n",
            "4\n",
            "8\n",
            "16\n",
            "32\n"
          ]
        }
      ]
    },
    {
      "cell_type": "markdown",
      "source": [
        "#**Question 7. Implement a generator function that reads a file line by line and yields each line as a string.**\n"
      ],
      "metadata": {
        "id": "aDo1pa9Kxb1w"
      }
    },
    {
      "cell_type": "code",
      "source": [
        "def read_file_line_by_line(file_path):\n",
        "  \"\"\"\n",
        "    Args:\n",
        "    file_path: The path to the file to read.\n",
        "\n",
        "  Yields:\n",
        "    Each line of the file as a string.\n",
        "  \"\"\"\n",
        "  try:\n",
        "    with open(file_path, 'r') as file:\n",
        "      for line in file:\n",
        "        yield line.strip()\n",
        "  except FileNotFoundError:\n",
        "    print(f\"Error: The file '{file_path}' was not found.\")\n",
        "  except Exception as e:\n",
        "    print(f\"An error occurred: {e}\")\n",
        "\n",
        "# Example usage:\n",
        "# First, create a dummy file for demonstration\n",
        "file_content = \"\"\"This is the first line.\n",
        "This is the second line.\n",
        "And this is the third line.\"\"\"\n",
        "\n",
        "with open(\"my_example_file.txt\", \"w\") as f:\n",
        "    f.write(file_content)\n",
        "\n",
        "# Now, use the generator function to read the file\n",
        "print(\"Reading 'my_example_file.txt' line by line:\")\n",
        "for line in read_file_line_by_line(\"my_example_file.txt\"):\n",
        "  print(line)"
      ],
      "metadata": {
        "colab": {
          "base_uri": "https://localhost:8080/"
        },
        "id": "eGrT0DD7xiVv",
        "outputId": "5333c947-cedf-43ff-ff03-0618384754bb"
      },
      "execution_count": 6,
      "outputs": [
        {
          "output_type": "stream",
          "name": "stdout",
          "text": [
            "Reading 'my_example_file.txt' line by line:\n",
            "This is the first line.\n",
            "This is the second line.\n",
            "And this is the third line.\n"
          ]
        }
      ]
    },
    {
      "cell_type": "markdown",
      "source": [
        "#**Question 8. Use a lambda function in Python to sort a list of tuples based on the second element of each tuple.**\n"
      ],
      "metadata": {
        "id": "j33D6diH1yPr"
      }
    },
    {
      "cell_type": "code",
      "source": [
        "# List of tuples\n",
        "tuples_list = [(3, 6), (1, 9), (2, 4), (4, 1), (5, 7)]\n",
        "\n",
        "sorted_tuples = sorted(tuples_list, key=lambda x: x[1])\n",
        "\n",
        "print(\"Original list:\")\n",
        "print(tuples_list)\n",
        "print(\"\\nSorted list (by second element):\")\n",
        "print(sorted_tuples)\n",
        "\n",
        "\n"
      ],
      "metadata": {
        "colab": {
          "base_uri": "https://localhost:8080/"
        },
        "id": "htFVy_WC15uH",
        "outputId": "8a446b68-dc62-4d36-f939-6154b9406f67"
      },
      "execution_count": 9,
      "outputs": [
        {
          "output_type": "stream",
          "name": "stdout",
          "text": [
            "Original list:\n",
            "[(3, 6), (1, 9), (2, 4), (4, 1), (5, 7)]\n",
            "\n",
            "Sorted list (by second element):\n",
            "[(4, 1), (2, 4), (3, 6), (5, 7), (1, 9)]\n"
          ]
        }
      ]
    },
    {
      "cell_type": "markdown",
      "source": [
        "#**Question 9. Write a Python program that uses `map()` to convert a list of temperatures from Celsius to Fahrenheit.**\n"
      ],
      "metadata": {
        "id": "yR1MT2c72lGy"
      }
    },
    {
      "cell_type": "code",
      "source": [
        "def celsius_to_fahrenheit(celsius):\n",
        "    return (celsius * 9/5) + 32\n",
        "\n",
        "# List of temperatures in Celsius\n",
        "celsius_temps = [0, 10, 20, 30, 40]\n",
        "\n",
        "# Convert Celsius to Fahrenheit using map()\n",
        "fahrenheit_temps = list(map(celsius_to_fahrenheit, celsius_temps))\n",
        "\n",
        "print(\"Celsius Temperatures:\", celsius_temps)\n",
        "print(\"Fahrenheit Temperatures:\", fahrenheit_temps)\n"
      ],
      "metadata": {
        "colab": {
          "base_uri": "https://localhost:8080/"
        },
        "id": "yb0ebubH2trU",
        "outputId": "97bde9e5-141c-428f-e5f7-012ae482a6d0"
      },
      "execution_count": 10,
      "outputs": [
        {
          "output_type": "stream",
          "name": "stdout",
          "text": [
            "Celsius Temperatures: [0, 10, 20, 30, 40]\n",
            "Fahrenheit Temperatures: [32.0, 50.0, 68.0, 86.0, 104.0]\n"
          ]
        }
      ]
    },
    {
      "cell_type": "markdown",
      "source": [
        "#**Question 10. Create a Python program that uses `filter()` to remove all the vowels from a given string.**\n"
      ],
      "metadata": {
        "id": "Kzjq4Z353uru"
      }
    },
    {
      "cell_type": "code",
      "source": [
        "def is_not_vowel(char):\n",
        "    vowels = 'aeiouAEIOU'\n",
        "    return char not in vowels\n",
        "\n",
        "# Given string\n",
        "input_string = \"Hello World\"\n",
        "\n",
        "# Remove vowels using filter()\n",
        "no_vowels_string = ''.join(filter(is_not_vowel, input_string))\n",
        "\n",
        "print(\"Original String:\", input_string)\n",
        "print(\"String without Vowels:\", no_vowels_string)\n"
      ],
      "metadata": {
        "colab": {
          "base_uri": "https://localhost:8080/"
        },
        "id": "MEZLfiS531HD",
        "outputId": "81b70615-6cff-4ec6-8693-2fbc97584ba3"
      },
      "execution_count": 11,
      "outputs": [
        {
          "output_type": "stream",
          "name": "stdout",
          "text": [
            "Original String: Hello World\n",
            "String without Vowels: Hll Wrld\n"
          ]
        }
      ]
    },
    {
      "cell_type": "markdown",
      "source": [
        "#**Question 11. Imagine an accounting routine used in a book shop. It works on a list with sublists, which look like this:**\n",
        "|index|order number|Book title &amp; Author|Quantity|price item|\n",
        "|---|---|---|---|---|\n",
        "|0|34587|Learning Python, Mark Lutz|4|40\\.95|\n",
        "|1|98762|Programming python, Mark Lutz|5|56\\.8|\n",
        "|2|77226|Head First Python, Paul Barry|3|32\\.95|\n",
        "|3|88112|Einfuhrung in Pyhton3, Bernd Klein|3|24\\.99|\n",
        "\n",
        "**Write a Python program, which returns a list with 2-tuples. Each tuple consists of the order number and the product of the price per item and the quantity. The product should be increased by 10,- € if the value of the order is smaller than 100,00 €. Write a Python program using lambda and map**\n",
        "\n",
        "  "
      ],
      "metadata": {
        "id": "dk5Fq67O4YZj"
      }
    },
    {
      "cell_type": "code",
      "source": [
        "# Data as a list of lists\n",
        "orders = [\n",
        "    [34587, 'Learning Python, Mark Lutz', 4, 40.95],\n",
        "    [98762, 'Programming python, Mark Lutz', 5, 56.80],\n",
        "    [77226, 'Head First Python, Paul Barry', 3, 32.95],\n",
        "    [88112, 'Einfuhrung in Pyhton3, Bernd Klein', 3, 24.99]\n",
        "]\n",
        "\n",
        "# Function to calculate the total price and apply the bonus\n",
        "def calculate_total(order):\n",
        "    order_number = order[0]\n",
        "    quantity = order[2]\n",
        "    price_item = order[3]\n",
        "    total_price = round(quantity * price_item, 2)\n",
        "    if total_price < 100:\n",
        "        total_price += 10\n",
        "    return (order_number, total_price)\n",
        "\n",
        "# Use map and lambda to process the orders\n",
        "order_totals = list(map(calculate_total, orders))\n",
        "\n",
        "# Print the result\n",
        "print(order_totals)"
      ],
      "metadata": {
        "colab": {
          "base_uri": "https://localhost:8080/"
        },
        "id": "84EqZ_lmV93g",
        "outputId": "ea8d621a-ce26-4623-f9aa-abd6180610de"
      },
      "execution_count": 3,
      "outputs": [
        {
          "output_type": "stream",
          "name": "stdout",
          "text": [
            "[(34587, 163.8), (98762, 284.0), (77226, 108.85), (88112, 84.97)]\n"
          ]
        }
      ]
    }
  ]
}